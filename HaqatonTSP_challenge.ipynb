{
 "cells": [
  {
   "cell_type": "markdown",
   "id": "bb2329b2-6bbb-42ce-93af-47d81e546ce7",
   "metadata": {},
   "source": [
    "# Haqathon: Traveling Salesman Problem using Variational Algorithms"
   ]
  },
  {
   "cell_type": "markdown",
   "id": "9a1044cb-d2c8-407b-93fb-e95112ba4d20",
   "metadata": {},
   "source": [
    "Wenyang Qian    \n",
    "March 21st: 9:00 - 20:00"
   ]
  },
  {
   "cell_type": "markdown",
   "id": "70488b8f-0d3c-4e32-9bf7-007fa7ebbfbf",
   "metadata": {},
   "source": [
    "The **Traveling Salesman Problem**, or **TSP** for short, is one of the most intensively studied problems in computational mathematics. \n",
    "\n",
    "People have devoted to the history, applications, and current research of this challenge of finding the shortest route visiting each member of a collection of locations and returning to your starting point.\n",
    "\n",
    "For over a century, TSP has inspired hundreds of works and dozens of algorithms, of both exact and heuristic approaches. Today, the TSP has become so quintessential in modern computing that it is commonly considered the prototypical NP-Hard combinatorial optimization problem, possessing far-reaching impact on countless applications in science, industry and society. See website [here](https://www.math.uwaterloo.ca/tsp/) from University of Waterloo and others for more information about TSP.\n",
    "\n",
    "Today, we aim to come up with solutions to solve the TSP using quantum variational algorithms. \n",
    "\n"
   ]
  },
  {
   "cell_type": "markdown",
   "id": "69900000-9bd2-48d3-b7e4-0a6b10ecd9b0",
   "metadata": {},
   "source": [
    "<img src=\"image/tsp.webp\" width=400>"
   ]
  },
  {
   "cell_type": "code",
   "execution_count": null,
   "id": "e7411cd6-8930-4882-8889-c242796d64d0",
   "metadata": {},
   "outputs": [],
   "source": [
    "import numpy as np\n",
    "import matplotlib.pyplot as plt\n",
    "\n",
    "from qiskit import transpile\n",
    "from qiskit.circuit import QuantumCircuit, Parameter, ParameterVector\n",
    "from qiskit.circuit.library import PauliEvolutionGate\n",
    "from qiskit.synthesis import LieTrotter, SuzukiTrotter\n",
    "from qiskit.quantum_info import Pauli, SparsePauliOp\n",
    "from qiskit.visualization import plot_histogram\n",
    "from qiskit.primitives import Estimator, Sampler, StatevectorEstimator, StatevectorSampler\n",
    "import qiskit_aer\n",
    "import qiskit_algorithms\n",
    "import qiskit\n",
    "\n",
    "print('Qiskit version:', qiskit.version.get_version_info())"
   ]
  },
  {
   "cell_type": "markdown",
   "id": "bb7fb1c3-4640-4986-ae22-7a78535407d1",
   "metadata": {},
   "source": [
    "## 1. Problem Formulation of TSP"
   ]
  },
  {
   "cell_type": "markdown",
   "id": "d4e2a13c-f24c-4df8-8be9-f1e4dfd0f2a9",
   "metadata": {},
   "source": [
    "The TSP data that people typically use is from [TSPLIB](http://comopt.ifi.uni-heidelberg.de/software/TSPLIB95/index.html), stored in \".tsp\" text files. \n",
    "\n",
    "For simplicity, we focus on **symmetric TSP** where going from A to B is the same as going from B to A. I have downloaded these files and added some other files under \"data\" directory.\n",
    "\n",
    "One can use \"TSPParser\" class (credit: [tsartsaris](https://github.com/tsartsaris/TSPLIB-python-parser)) to convert the text file to Python data and also visualize it! You may look at the text files and play with the one you like. Here is a map in Berlin."
   ]
  },
  {
   "cell_type": "code",
   "execution_count": null,
   "id": "17d78dc7-ceae-492f-bdc3-f12cc0e08bc3",
   "metadata": {},
   "outputs": [],
   "source": [
    "from HaqatonTSP.parser import TSPParser\n",
    "TSPParser(filename=\"data/berlin52.tsp\", plot_tsp=True)"
   ]
  },
  {
   "cell_type": "markdown",
   "id": "cf6d701f-938a-44e7-a60b-e802fdf4776e",
   "metadata": {},
   "source": [
    "As you can see, TSP problem is essentially best routing problem with graphs! The cities are the nodes and the roads between them become the edges of the graph. The traveling distances of each road is the corresponding edge weight. To understand TSP, we need to under Graph theory.\n",
    "\n",
    "In graph theory, it is convenient to introduce the concept of **adjacency matrix** to describe the connectivity inside the graph. An adjacency matrix $M$ is a square matrix used to represent a finite graph. The elements of the matrix indicate whether pairs of vertices are adjacent or not in the graph. \n",
    "\n",
    "Specifically, we also store edge weights directly int he elements of an adjacency matrix. Here, we use $M_{ij} =0$ to indicate there is no edge connecting city $i$ and $j$, and $M_{ij} = d$ to indicate there is a road of distance $d$ connecting city $i$ and $j$.\n",
    "\n",
    "Here are two examples:"
   ]
  },
  {
   "cell_type": "markdown",
   "id": "dac8b368-a790-4022-ab02-a850ca033146",
   "metadata": {},
   "source": [
    "<img src=\"image/tsp_case1.png\" width=350>\n",
    "The adjacency matrix for the above graph should be: \n",
    "$ \\quad\\quad M = \\begin{pmatrix}\n",
    "    0 & 2 & 1 & 0 \\\\\n",
    "    2 & 0 & 0 & 3 \\\\\n",
    "    1 & 0 & 0 & 2 \\\\\n",
    "    0 & 3 & 2 & 0 \n",
    "    \\end{pmatrix} \n",
    "$"
   ]
  },
  {
   "cell_type": "markdown",
   "id": "7420ecac-f0d0-47c9-9928-8b1196c4a0ec",
   "metadata": {},
   "source": [
    "<img src=\"image/tsp_case2.png\" width=350>\n",
    "The adjacency matrix for the above graph should be: \n",
    "$ \\quad\\quad M = \\begin{pmatrix}\n",
    "    0 & 2 & 1 & 3 \\\\\n",
    "    2 & 0 & 3 & 3 \\\\\n",
    "    1 & 3 & 0 & 2 \\\\\n",
    "    3 & 3 & 2 & 0 \n",
    "    \\end{pmatrix} \n",
    "$"
   ]
  },
  {
   "cell_type": "markdown",
   "id": "5034e897-e6e3-4e25-b0a6-9ec7c3cb2c75",
   "metadata": {},
   "source": [
    "Note, we start our city index from 0, for Python is 0-indexed. \n",
    "\n",
    "To make it easier for you, I wrote for you the following **TSPGraph** class to build and visualize the TSP from any adjacency matrix. The above examples can be built easily. When rendering the city indices might switch places for optimal presentation."
   ]
  },
  {
   "cell_type": "code",
   "execution_count": null,
   "id": "f95db6a2-0a7b-4db0-b254-40a1e23c8689",
   "metadata": {},
   "outputs": [],
   "source": [
    "from HaqatonTSP.tsp import TSPGraph\n",
    "\n",
    "# use tha adjaceny matrix above\n",
    "M = \\\n",
    "[[0,2,1,0], \n",
    " [2,0,0,3], \n",
    " [1,0,0,2], \n",
    " [0,3,2,0]]\n",
    "\n",
    "tsp1 = TSPGraph(num_nodes=4, adj_matrix=M)\n",
    "tsp1.draw()"
   ]
  },
  {
   "cell_type": "code",
   "execution_count": null,
   "id": "4dbbeb70-d510-4153-84c5-087259f76ecd",
   "metadata": {},
   "outputs": [],
   "source": [
    "tsp1.get_sols(keep_unique=False)"
   ]
  },
  {
   "cell_type": "code",
   "execution_count": null,
   "id": "c01dd48a-749c-4c28-9dcb-13072da5c5e4",
   "metadata": {},
   "outputs": [],
   "source": [
    "# use tha adjaceny matrix above\n",
    "\n",
    "M = \\\n",
    "[[0,2,1,3], \n",
    " [2,0,3,3], \n",
    " [1,0,3,2], \n",
    " [3,3,2,0]]\n",
    "\n",
    "tsp2 = TSPGraph(num_nodes=4, adj_matrix=M)\n",
    "tsp2.draw()"
   ]
  },
  {
   "cell_type": "markdown",
   "id": "655b6ae4-559c-4496-92ce-9bc749e1851c",
   "metadata": {},
   "source": [
    "One can also use the class to get a random TSP graph, by **not specifying** the adjacency matrix. Additioanlly, one can specficy the connectivity of the edges (edge_freq) with 1 being fully connected and 0 being fully disjointed, and max_weight for the maximum edge weight allocated. One can also play with seed values to generate a variety of graphs."
   ]
  },
  {
   "cell_type": "code",
   "execution_count": null,
   "id": "16ae6c45-6a80-4114-a2a3-4f23f071d687",
   "metadata": {},
   "outputs": [],
   "source": [
    "tsp3 = TSPGraph(num_nodes=6, seed=0, edge_freq=1.0, max_weight=100)\n",
    "tsp3.draw()"
   ]
  },
  {
   "cell_type": "markdown",
   "id": "ff9b7ebd-ad27-4ec8-8565-99facafce5de",
   "metadata": {},
   "source": [
    "You can use **get_adj_matrix()** function to print out the adjacency matrix."
   ]
  },
  {
   "cell_type": "code",
   "execution_count": null,
   "id": "13c455fd-cfeb-4e4a-afaa-46edce0c3d09",
   "metadata": {},
   "outputs": [],
   "source": [
    "tsp3.get_adj_matrix()"
   ]
  },
  {
   "cell_type": "code",
   "execution_count": null,
   "id": "61685de3-519e-4183-8183-b93b5e5f90c0",
   "metadata": {},
   "outputs": [],
   "source": [
    "tsp4 = TSPGraph(num_nodes=6, seed=42, edge_freq=0.7, max_weight=500)\n",
    "tsp4.draw()"
   ]
  },
  {
   "cell_type": "code",
   "execution_count": null,
   "id": "119463f1-07b5-4624-9049-3f7b4a4835c5",
   "metadata": {},
   "outputs": [],
   "source": [
    "tsp4.get_adj_matrix()"
   ]
  },
  {
   "cell_type": "markdown",
   "id": "526ab87e-c976-4c12-b50a-be789a6d1379",
   "metadata": {},
   "source": [
    "## 2. Exact Classical Solution"
   ]
  },
  {
   "cell_type": "markdown",
   "id": "f4184446-a857-454f-a674-77c6570b9304",
   "metadata": {},
   "source": [
    "Here, you can solve the TSP problem for both the optimal distance and route using bruteforce algorithm provided by the class.\n",
    "\n",
    "Note the algorithm scales worse than exponential, since $\\mathcal{O(n!)} > \\mathcal{O}(2^n)$, for a $n$-node TSP graph. So, it will fail terribly (taking forever to run) when $n$ is large."
   ]
  },
  {
   "cell_type": "code",
   "execution_count": null,
   "id": "d3376715-afb0-4ab6-b343-60cdc80f3100",
   "metadata": {},
   "outputs": [],
   "source": [
    "tsp1.get_sols()"
   ]
  },
  {
   "cell_type": "markdown",
   "id": "2ec7669b-fa0d-4c3a-a5f2-9d94f44daa78",
   "metadata": {},
   "source": [
    "The **get_sols()** function returns the best distance and a list of possible route path. For example, the first TSP graph has a best distance of 8, with possible routes (0,2,3,1) representing 0 -> 2 -> 3 -> 1 -> 0 and (0,1,3,2) representing 0 -> 1 -> 3 -> 2 -> 0. Importantly, for TSP, there could be multiple best route path correspond to the same one best distance. Note, it is assumed that you will return to the starting city.\n",
    "\n",
    "One can also use the **draw_with_bf_sol()** to draw the best path on graph."
   ]
  },
  {
   "cell_type": "code",
   "execution_count": null,
   "id": "33123248-cbb9-470d-ac3a-0d916a30fbaa",
   "metadata": {},
   "outputs": [],
   "source": [
    "tsp1.draw_with_bf_sol()"
   ]
  },
  {
   "cell_type": "markdown",
   "id": "2a26a58c-0cd4-4b69-8645-3e57862adce6",
   "metadata": {},
   "source": [
    "Now, you can experiment with the other graphs."
   ]
  },
  {
   "cell_type": "code",
   "execution_count": null,
   "id": "fe138e3d-909b-4512-a57b-59ae5cd09a98",
   "metadata": {},
   "outputs": [],
   "source": [
    "tsp2.get_sols()"
   ]
  },
  {
   "cell_type": "code",
   "execution_count": null,
   "id": "3270fe7e-594a-4cfe-a5f8-25d457af66c1",
   "metadata": {},
   "outputs": [],
   "source": [
    "tsp2.draw_with_bf_sol()"
   ]
  },
  {
   "cell_type": "code",
   "execution_count": null,
   "id": "5b5e2294-926b-43cf-9879-8bb78c9deca3",
   "metadata": {},
   "outputs": [],
   "source": [
    "tsp3.get_sols()"
   ]
  },
  {
   "cell_type": "code",
   "execution_count": null,
   "id": "df9ed70a-aef1-4b09-9eae-da8322c01dca",
   "metadata": {},
   "outputs": [],
   "source": [
    "tsp3.draw_with_bf_sol()"
   ]
  },
  {
   "cell_type": "code",
   "execution_count": null,
   "id": "8b07f174-0f7e-471a-be38-ad7516639354",
   "metadata": {},
   "outputs": [],
   "source": [
    "tsp4.get_sols()"
   ]
  },
  {
   "cell_type": "code",
   "execution_count": null,
   "id": "72adde5f-d3e3-497e-9d47-1532e7f7c7c3",
   "metadata": {},
   "outputs": [],
   "source": [
    "tsp4.draw_with_bf_sol()"
   ]
  },
  {
   "cell_type": "markdown",
   "id": "0e404fe6-892f-4305-82f2-187fefdb0132",
   "metadata": {},
   "source": [
    "Note it is possible to have a TSP **without a best distance**, if an edge between two nodes are not availble. For example, you can set freqence of the edge to be very low. Because in our setup, each edge is only allowed to be used once."
   ]
  },
  {
   "cell_type": "code",
   "execution_count": null,
   "id": "a1639a3a-01bc-46d3-964e-2a58d7c05f82",
   "metadata": {},
   "outputs": [],
   "source": [
    "tsp5 = TSPGraph(num_nodes=6, seed=0, edge_freq=0.5, max_weight=100)\n",
    "tsp5.draw()"
   ]
  },
  {
   "cell_type": "code",
   "execution_count": null,
   "id": "95647cac-9f36-42ca-a9fc-dfd51f934632",
   "metadata": {},
   "outputs": [],
   "source": [
    "tsp5.get_sols()"
   ]
  },
  {
   "cell_type": "code",
   "execution_count": null,
   "id": "bc8ce500-14d7-4019-a26a-8f3199fd9ed0",
   "metadata": {},
   "outputs": [],
   "source": []
  },
  {
   "cell_type": "markdown",
   "id": "49e7e273-3c9a-4536-8d07-05a1a9b9e069",
   "metadata": {},
   "source": [
    "## 3. Approximate Quantum Solution using Variational Algorithms"
   ]
  },
  {
   "cell_type": "markdown",
   "id": "1293760c-11a7-4b64-97ca-502b8a68feec",
   "metadata": {},
   "source": [
    "Here, you will solve the TSP problem using quantum variational algorithms, such as QAOA or VQE."
   ]
  },
  {
   "cell_type": "markdown",
   "id": "a0ec0085-bb79-4f68-a014-0717ee75f9dd",
   "metadata": {},
   "source": [
    "Some useful resources:\n",
    "\n",
    "* Qiskit tutorial, Max-cut and TSP, [GitHub](https://github.com/qiskit-community/qiskit-optimization/blob/main/docs/tutorials/06_examples_max_cut_and_tsp.ipynb)\n",
    "\n",
    "* Ising formulations of many NP problems, [1302.5843](https://arxiv.org/abs/1302.5843)   \n",
    "\n",
    "* Comparative Study of Variations in Quantum Approximate Optimization Algorithms for the Traveling Salesman Problem, [2307.07243](https://arxiv.org/abs/2307.07243)\n",
    "\n",
    "..."
   ]
  },
  {
   "cell_type": "markdown",
   "id": "50066daa-e154-4314-9a57-86c389823309",
   "metadata": {},
   "source": [
    "You can see that like Max-cut problem you learned in class, TSP can also be formulated using Ising Model, which is basically some weighted sum of Pauli-$Z$ and Pauli-$ZZ$ operators. "
   ]
  },
  {
   "cell_type": "markdown",
   "id": "8d684b53-d676-4914-875d-b17ca83d4c9c",
   "metadata": {},
   "source": [
    "### a. TSP Problem Formulation as Optimization Probelm\n",
    "First step is forumlate TSP as an **optimization problem**. Optimization problem allows us to go much beyond exact solution by bruteforce. The optimization problem comes with **three important parts**.\n",
    "\n",
    "1. What are the quantum state? How are solutions represented?\n",
    "   \n",
    "2. What is the cost operator for representing the TSP graph that we try to minimize?\n",
    "\n",
    "3. What are the constraints for the TSP problem? Why are the contraints necessary?"
   ]
  },
  {
   "cell_type": "markdown",
   "id": "fe1ddaf7-92b2-413e-afb0-568c06f14cad",
   "metadata": {},
   "source": [
    "#### a.1. Quantum state to represent solution\n",
    "\n",
    "In this graph formulation of the TSP, any valid cycle, be it minimum or not, can be represented by a visiting order or a permutation of integers, such as $\\{0, 1, ..., n-1\\}$, where the integers are the city indices starting at 0 for a total of $n$ cities. \n",
    "\n",
    "Alternatively, the visiting order on a TSP graph can be conveniently described by a sequence of **binary decision variables**, $x_{i,t}$, indicating whether the city-$i$ is visited at time $t$. If $x_{i,t}=1$ then the city-$i$ is visited at $t$, otherwise the city is not visited by the traveling salesman. \n",
    "\n",
    "Naively, to fully describe the solution to a $n$-city TSP, a total of $n^2$ binary variables is needed in this representation. \n",
    "\n",
    "Alternatively, this ``one-hot\" representation of binary decision variables can be written collectively in either **matrix** or **flattened array format** for numerical implementation. For instance, a valid Hamiltonian cycle of permutation $x=(0, 1, 2, 3)$, is translated into binary decision variables $x$ as\n",
    "$$\n",
    "\\begin{equation}\n",
    "\\begin{aligned}\n",
    "    x =(0, 1, 2, 3) \n",
    "    \\equiv\n",
    "    \\begin{pmatrix}\n",
    "    1 & 0 & 0 & 0 \\\\\n",
    "    0 & 1 & 0 & 0 \\\\\n",
    "    0 & 0 & 1 & 0 \\\\\n",
    "    0 & 0 & 0 & 1 \n",
    "    \\end{pmatrix} \n",
    "    \\equiv 1000010000100001 ,\n",
    "\\end{aligned}\n",
    "\\end{equation}\n",
    "$$\n",
    "where the matrix row index represents each city index, and the column index represents each time instance. \n",
    "\n",
    "This is then very suitable for our quantum state. Take some time to think this through. If needed, you can also look at the references."
   ]
  },
  {
   "cell_type": "code",
   "execution_count": null,
   "id": "9b1d1736-5b7e-46b4-a726-d4a545bef491",
   "metadata": {},
   "outputs": [],
   "source": []
  },
  {
   "cell_type": "code",
   "execution_count": null,
   "id": "5495995d-07fe-496c-8f51-f5200dd53f1e",
   "metadata": {},
   "outputs": [],
   "source": []
  },
  {
   "cell_type": "markdown",
   "id": "9d412091-f9d2-40d4-a7e8-d21ea86e5d9d",
   "metadata": {},
   "source": [
    "#### a.2. TSP cost operator\n",
    "\n",
    "With binary decision variables $x$, a true solution to an $n$-city TSP can be found by finding an $x$ that minimizes the following cost function,\n",
    "$$\n",
    "\\begin{align}\n",
    "    C_\\mathrm{dist}(x) = \\sum_{0\\leq i,j<n} \\omega_{ij} \\sum_{t=0}^{n-1} x_{i,t} x_{j,t+1},\n",
    "\\end{align}\n",
    "$$\n",
    "where $\\omega_{ij}$ is the distance (or edge weight in the undirected graph) between city-$i$ and city-$j$.\n",
    "\n",
    "Note: in symmetric TSP, $\\omega_{ij} = \\omega_{ji}$ and $\\omega_{ii}=0$.\n",
    "\n",
    "Now it is your time to implement this using what you learned from the Max-cut problem. \n",
    "\n",
    "You function should take in an adjaceny matrix (a $2^n$ by $2^n$ matrix) for a TSP graph and return the cost operator for this TSP in terms of Pauli strings. Importantly as a sanity check, you should end up with only Pauli-Z and Pauli-ZZ operators."
   ]
  },
  {
   "cell_type": "code",
   "execution_count": null,
   "id": "f63009b8-a01e-453a-9488-01bc56c98031",
   "metadata": {},
   "outputs": [],
   "source": [
    "def build_TSP_cost_operator(num_nodes, TSP_adj_matrix):\n",
    "    '''\n",
    "    Return the TSP cost operator that we try to minimize.\n",
    "    '''\n",
    "\n",
    "\n",
    "    \n",
    "    \n",
    "    return operator"
   ]
  },
  {
   "cell_type": "markdown",
   "id": "bfbbab11-c2a2-4a1e-9860-0a42a8927b71",
   "metadata": {},
   "source": []
  },
  {
   "cell_type": "markdown",
   "id": "d6d8f5ae-2f60-40a3-9a4c-5ad16fc5f805",
   "metadata": {},
   "source": [
    "#### a.3. TSP constraint equations\n",
    "\n",
    "You should quickly see that not all decision variables are valid. Some of those are not a possible route and some of those violate causality. \n",
    "\n",
    "For example, each row of the matrix representation of the decision variables must have 1 appearing once. Otherwise, the TSP person is at the same city all the time. \n",
    "\n",
    "Likewise, each column of the matrix representation of the decision variables must have 1 appearing once. Otherwise, the TSP person is simultaneous at all the cities!!\n",
    "\n",
    "What do you think is the constraints here?\n",
    "\n",
    "Yes, the matrix must faithly represent a permutation matrix. Much in the same spirit as **Soduku**, the decision variable must has exactly 1 in any row and any column!\n",
    "\n",
    "For this, we categorize the **decision variable $x$ into three categories**:\n",
    "\n",
    "$$\n",
    "\\begin{align}\n",
    "    x &= \\begin{cases}\n",
    "        \\textbf{true}, & \\text{$x$ is a permutation and gives the shortest path,}\\\\\n",
    "        \\textbf{false}, & \\text{$x$ is a permutation but does not give the shortest path,}\\\\\n",
    "        \\textbf{invalid}, & \\text{$x$ is not a permutation,}\n",
    "    \\end{cases}\n",
    "\\end{align}\n",
    "$$\n",
    "\n",
    "Write a few $x$ and determine if it is valid (true + false) or invalid."
   ]
  },
  {
   "cell_type": "code",
   "execution_count": null,
   "id": "8ade888c-aa8e-4602-8ed9-3bc08b3743ca",
   "metadata": {},
   "outputs": [],
   "source": []
  },
  {
   "cell_type": "code",
   "execution_count": null,
   "id": "b1eba029-4776-4774-bdc1-4755c9fe3b63",
   "metadata": {},
   "outputs": [],
   "source": []
  },
  {
   "cell_type": "markdown",
   "id": "b58711c7-afe5-44f2-bbbd-ed0eebaad6e6",
   "metadata": {},
   "source": [
    "Then, how do we materialize this fact in our setup? \n",
    "\n",
    "Since the cost function itself does not forbid invalid solutions in general, additional constraint conditions must be satisfied for a valid Hamiltonian cycle, such as\n",
    "$$\n",
    "\\begin{align}\n",
    "    \\sum_{i=0}^{n-1} x_{i,t} &= 1\\quad \\text{for $t=0,1,\\cdots,n-1$}  \\\\\n",
    "    \\sum_{t=0}^{n-1} x_{i,t} &= 1\\quad \\text{for $i=0,1,\\cdots,n-1$} \n",
    "\\end{align}\n",
    "$$\n",
    "where the former equation forbids multiple cities visited by the traveler at the same time, and latter equation forbids revisiting the same city. \n",
    "\n",
    "To formulate the TSP as a minimum-optimization problem, these constraint conditions are conveniently incorporated as the penalty terms, such that the combined cost function, $C(x)$ becomes,\n",
    "$$\n",
    "\\begin{align}\n",
    "    C(x) =&\\, C_\\mathrm{dist}(x) + \\lambda C_\\mathrm{penalty}(x) \\\\ =&\\sum_{0\\leq i,j<n} \\omega_{ij} \\sum_{t=0}^{n-1} x_{i,t} x_{j,t+1}\n",
    "    + \\lambda \\bigg\\{\\sum_{t=0}^{n-1}\\Big(1-\\sum_{i=0}^{n-1} x_{i,t}\\Big)^2 \n",
    "    + \\sum_{i=0}^{n-1}\\Big(1-\\sum_{t=0}^{n-1} x_{i,t}\\Big)^2\\bigg\\},\n",
    "\\end{align}\n",
    "$$\n",
    "where $\\lambda$ is the weight factor of the penalty term, serving as the Lagrange multiplier. $\\lambda$ should be positive and sufficiently large. \n",
    "\n",
    "It is easy to see bit string $x$ gives the minimum of $C(x)$ **if and only if** $x$ is a true solution to the given TSP. \n",
    "\n",
    "Now our problem is equivalent to finding an $x^*$ that **minimizes** $C(x)$, i.e. $x^* = {\\arg \\min}\\, C(x)$."
   ]
  },
  {
   "cell_type": "code",
   "execution_count": null,
   "id": "bcccd3f3-f580-4dbd-8256-ef5c5547cdba",
   "metadata": {},
   "outputs": [],
   "source": [
    "def build_TSP_penalty_operator(num_nodes, lambda_factor):\n",
    "    '''\n",
    "    Return the TSP penalty operator that we try to enforce the constraint upto some weight lambda_factor.\n",
    "    '''\n",
    "\n",
    "\n",
    "    \n",
    "    \n",
    "    return operator"
   ]
  },
  {
   "cell_type": "code",
   "execution_count": null,
   "id": "13ce8759-8dbc-43eb-a079-26b1e01e8e30",
   "metadata": {},
   "outputs": [],
   "source": [
    "def build_full_TSP_operator(num_nodes, TSP_adj_matrix, lambda_factor):\n",
    "    '''\n",
    "    Return the full TSP operator that we try to minimize.\n",
    "    '''\n",
    "\n",
    "\n",
    "    \n",
    "    \n",
    "    return operator"
   ]
  },
  {
   "cell_type": "markdown",
   "id": "9396526b-c8f2-4558-b9f7-3b330eb81d26",
   "metadata": {},
   "source": [
    "\n"
   ]
  },
  {
   "cell_type": "markdown",
   "id": "44512fd6-2bff-4b81-86e5-b76f726d9887",
   "metadata": {},
   "source": [
    "Make sure the operator you got is still an Ising operator.\n",
    "\n",
    "Then you can use exact diagonalization to verify the best distance using numpy.\n",
    "\n"
   ]
  },
  {
   "cell_type": "code",
   "execution_count": null,
   "id": "1585618b-0220-414a-bca6-2b9fcda9c3f2",
   "metadata": {},
   "outputs": [],
   "source": [
    "# as an example using numpy to find eigenvalues\n",
    "\n",
    "op     = build_full_TSP_operator(num_nodes, TSP_adj_matrix, lambda_factor)\n",
    "op_mat = operator.to_matrix()\n",
    "\n",
    "# print out the first 10 eigenvalues\n",
    "sorted(np.linalg.eigvals(op_mat))[:10]"
   ]
  },
  {
   "cell_type": "code",
   "execution_count": null,
   "id": "8f2589ae-c51b-431e-9dd5-75dbd749d1dc",
   "metadata": {},
   "outputs": [],
   "source": []
  },
  {
   "cell_type": "code",
   "execution_count": null,
   "id": "cf28506a-24c9-4b85-a25c-b25ae4730c46",
   "metadata": {},
   "outputs": [],
   "source": []
  },
  {
   "cell_type": "code",
   "execution_count": null,
   "id": "4286f1ce-447c-4324-b2a7-5499698a0649",
   "metadata": {},
   "outputs": [],
   "source": []
  },
  {
   "cell_type": "markdown",
   "id": "f9aca256-ba1c-442b-ae1f-d285b5309924",
   "metadata": {},
   "source": [
    "### b. Variational Ansatz for TSP\n",
    "\n",
    "Congratulations!\n",
    "\n",
    "Getting here is significant!!! Now, the floor is yours. Try VQE or QAOA setup that you learned to see if you can extract the optimal distance and route. **Try start with VQE**, as it is a simple heuristic approach.\n",
    "\n"
   ]
  },
  {
   "cell_type": "code",
   "execution_count": null,
   "id": "68352fe1-25b0-416d-9817-f7aeb0d673a7",
   "metadata": {},
   "outputs": [],
   "source": [
    "\n",
    "def run_VQE_on_TSP(tsp_operator, ansatz, optimizer, maxiter, shots):\n",
    "    '''\n",
    "    Run the quantum simulation and return the optimizer result and a list of expectation values for your ansatz\n",
    "\n",
    "    Suggestion: try go to Max-cut notebook from previous class, see \"maxcut_vqe_from_scratch\" function, if this is not very clear.\n",
    "    '''\n",
    "\n",
    "\n",
    "    \n",
    "    \n",
    "    return opt_result, exp_val_list\n",
    "\n",
    "\n",
    "# you can use the get_expectation function from our class.\n",
    "def get_expectation(ansatz, params, observable, shots):\n",
    "    assert ansatz.num_qubits == observable.num_qubits, f\"ansatz qubits = {ansatz.num_qubits}, observable qubits = {observable.num_qubits}\"\n",
    "    assert len(params) == ansatz.num_parameters\n",
    "    ##### ==================================\n",
    "    # Write your solution in here.  \n",
    "    circuit = ansatz.assign_parameters(params)\n",
    "    expectation = estimate_with_shots(circuit, observable, shots)\n",
    "    ##### ==================================\n",
    "    return expectation\n",
    "    \n",
    "# you can use the estimator_with_shots function from our class.\n",
    "import warnings\n",
    "warnings.filterwarnings('ignore', category=DeprecationWarning)\n",
    "\n",
    "def estimate_with_shots(circuit, observable, shots):\n",
    "    ''' Using Estimator class from earlier Qiskit versions (will be deprecated soon)\n",
    "        Still useful because one can implement shot simulation\n",
    "        Ref: https://docs.quantum.ibm.com/api/qiskit/qiskit.primitives.Estimator\n",
    "    '''\n",
    "    _circuit = circuit.copy()\n",
    "    _circuit.remove_final_measurements()\n",
    "    shot_estimator = Estimator(options={\"shots\": shots})\n",
    "    expectation = shot_estimator.run(_circuit, observable).result().values[0]\n",
    "    return expectation\n",
    "\n",
    "def estimate_with_shots_v2(circuit, observable):\n",
    "    ''' Using StatevectorEstimator class from Qiskit 1.3 \n",
    "        Ref: https://docs.quantum.ibm.com/api/qiskit/qiskit.primitives.StatevectorEstimator\n",
    "    '''\n",
    "    _circuit = circuit.copy()\n",
    "    _circuit.remove_final_measurements()\n",
    "    shot_estimator = StatevectorEstimator(shots=shots)\n",
    "    pub = (circuit, [[observable]])\n",
    "    expectation = shot_estimator.run([pub]).result()[0].data.evs[0]\n",
    "    return expectation"
   ]
  },
  {
   "cell_type": "code",
   "execution_count": null,
   "id": "9c43e42b-283a-450f-ab09-42f93435c8d3",
   "metadata": {},
   "outputs": [],
   "source": []
  },
  {
   "cell_type": "code",
   "execution_count": null,
   "id": "b8cb2b15-a036-4ae0-95da-3db4556e720c",
   "metadata": {},
   "outputs": [],
   "source": []
  },
  {
   "cell_type": "markdown",
   "id": "9d1d2b36-2cff-4f0f-8b07-c3a3b3f4c3cd",
   "metadata": {},
   "source": [
    "To test it, you can use $n=3$ nodes TSP graph to begin with."
   ]
  },
  {
   "cell_type": "code",
   "execution_count": null,
   "id": "928fe8da-4884-413d-8600-65f0b38d1527",
   "metadata": {},
   "outputs": [],
   "source": [
    "num_nodes = 3\n",
    "\n",
    "M = \\\n",
    "[[0,2,1], \n",
    " [2,0,3], \n",
    " [1,3,0]]\n",
    "\n",
    "tsp = TSPGraph(num_nodes=num_nodes, adj_matrix=M)\n",
    "tsp.draw()"
   ]
  },
  {
   "cell_type": "code",
   "execution_count": null,
   "id": "b45617b7-2949-46bd-affd-629797c6c442",
   "metadata": {},
   "outputs": [],
   "source": [
    "tsp.get_sols()"
   ]
  },
  {
   "cell_type": "markdown",
   "id": "c96cba41-2e85-4da6-849d-3b83b00eff47",
   "metadata": {},
   "source": [
    "You know the cost has to be 6 and one possible route is (1,0,2). See if that is what you get. "
   ]
  },
  {
   "cell_type": "markdown",
   "id": "4a1cbc05-d54f-4dd3-8c8c-2e9e88c1533a",
   "metadata": {},
   "source": [
    "To obtain the route, remember to use sampling techqniue on the optimized ansatz to find state with maximal probability."
   ]
  },
  {
   "cell_type": "code",
   "execution_count": null,
   "id": "1730db1a-a5c9-4904-ac3e-dc127d3866af",
   "metadata": {},
   "outputs": [],
   "source": [
    "def extract_TSP_route(ansatz, opt_res, shots):\n",
    "    '''\n",
    "    Sample the ansatz with optimization result and return best route and its probability.\n",
    "    '''\n",
    "    counts = sample_probability_dist(ansatz, opt_res, shots)\n",
    "\n",
    "\n",
    "\n",
    "\n",
    "    \n",
    "            \n",
    "    return best_route, best_prob\n",
    "\n",
    "# you can use sample_probability_dist function from our class.\n",
    "def sample_probability_dist(ansatz, optimization_result, shots):\n",
    "    num_qubits = ansatz.num_qubits\n",
    "    ##### ==================================\n",
    "    # Write your solution in here. \n",
    "    optimal_param = optimization_result.x\n",
    "    qc = ansatz.assign_parameters(optimal_param)\n",
    "    qc.measure_all()\n",
    "    dist = sample_with_shots(qc, shots, num_qubits)\n",
    "    ##### ==================================\n",
    "    return dist\n",
    "    \n",
    "# you can use sample_with_shots function from our class.\n",
    "def sample_with_shots(circuit, shots, num_qubits, export_prob=True):\n",
    "    ''' Using StatevectorSampler class from Qiskit 1.3 \n",
    "        Ref: https://docs.quantum.ibm.com/api/qiskit/qiskit.primitives.StatevectorSampler\n",
    "    '''\n",
    "    shot_sampler = StatevectorSampler(default_shots=shots)\n",
    "    pub = (circuit)\n",
    "    job = shot_sampler.run([pub], shots=shots)\n",
    "    counts = job.result()[0].data.meas.get_counts()\n",
    "    probs = {k: v/shots for k, v in counts.items()}\n",
    "    return probs if export_prob else counts\n",
    "    \n"
   ]
  },
  {
   "cell_type": "code",
   "execution_count": null,
   "id": "a52113e7-7424-4c7a-8def-b3c3fb69d3ce",
   "metadata": {},
   "outputs": [],
   "source": [
    "# for visualization\n",
    "\n",
    "from qiskit.visualization import plot_histogram\n",
    "\n",
    "counts = sample_probability_dist(ansatz, opt_res, shots)\n",
    "\n",
    "plot_histogram(counts, number_to_keep=10)"
   ]
  },
  {
   "cell_type": "code",
   "execution_count": null,
   "id": "5657e25d-d38b-4200-83a7-96f59cd8639b",
   "metadata": {},
   "outputs": [],
   "source": [
    "# extract\n",
    "\n",
    "best_route, best_prob = extract_TSP_route(ansatz, opt_res, shots)\n",
    "best_route, best_prob"
   ]
  },
  {
   "cell_type": "markdown",
   "id": "d775a962-d7e9-4ae1-9ba5-5ee4819082e1",
   "metadata": {},
   "source": [
    "Compare your solution with bruteforce ones"
   ]
  },
  {
   "cell_type": "code",
   "execution_count": null,
   "id": "c4fa062e-bf8e-434e-919d-329f6e4bc1be",
   "metadata": {},
   "outputs": [],
   "source": [
    "print(tsp.get_sols())\n",
    "\n",
    "tsp.draw_with_bf_sol()"
   ]
  },
  {
   "cell_type": "code",
   "execution_count": null,
   "id": "4ae9a159-5f74-40af-b725-66bd96e935e1",
   "metadata": {},
   "outputs": [],
   "source": []
  },
  {
   "cell_type": "code",
   "execution_count": null,
   "id": "1e9ef58e-cebe-4600-a4cc-c0527ab1f409",
   "metadata": {},
   "outputs": [],
   "source": []
  },
  {
   "cell_type": "markdown",
   "id": "e5ddd056-863f-4476-98c3-e2421489d601",
   "metadata": {},
   "source": [
    "### c. Optimize your setup to obtain Best Distance and Route\n",
    "\n",
    "Now we will think of ways to improve our simulation, on more and more cities (successfully going up to 4-5 is already very good).\n",
    "\n",
    "You can try with more shots, different optimizers, different initializations. If you used VQE, you should also try with QAOA. There are many things to improve this. Probably also good idea to read the paper.\n",
    "\n",
    "At the end of the day, you are expected to come up with a **TSP solver**, that takes into any good TSP graph (adjacency matrix) and extract the best distance from quantum simulatoin! \n",
    "\n",
    "Have fun!!!"
   ]
  },
  {
   "cell_type": "code",
   "execution_count": null,
   "id": "7cea645b-660d-45ed-8e3b-fe136a7b002f",
   "metadata": {},
   "outputs": [],
   "source": [
    "def TSP_solver(num_nodes, tsp_adj_matrix, lambda_factor):\n",
    "    '''\n",
    "    Run quantum simulation to obtain the best distance of any tsp graph (tsp_adj_matrix)\n",
    "    Return: best_dist, best_route, best_prob\n",
    "    '''\n",
    "\n",
    "\n",
    "    \n",
    "    \n",
    "    return best_dist, best_route, best_prob"
   ]
  },
  {
   "cell_type": "code",
   "execution_count": null,
   "id": "86fabe78-d071-4b81-9c63-128456c18481",
   "metadata": {},
   "outputs": [],
   "source": [
    "num_nodes = 3\n",
    "max_weight = 100\n",
    "edge_freq = 1.0\n",
    "\n",
    "tsp = TSPGraph(num_nodes=num_nodes, edge_freq=edge_freq, max_weight=max_weight)\n",
    "print(tsp.get_sols())\n",
    "\n",
    "tsp_adj_matrix = tsp.get_adj_matrix()\n",
    "print(tsp_adj_matrix)\n",
    "\n",
    "tsp.draw_with_bf_sol()\n"
   ]
  },
  {
   "cell_type": "code",
   "execution_count": null,
   "id": "173fd95f-7d0e-4558-b3a3-c00883f5dd9f",
   "metadata": {},
   "outputs": [],
   "source": [
    "from time import time\n",
    "\n",
    "n_trials = 5\n",
    "for _ in range(n_trials):\n",
    "    t0 = time()\n",
    "    print(TSP_solver(num_nodes, tsp_adj_matrix, lambda_factor=max_weight), f\", time cost = {time()-t0:.2f}s\")"
   ]
  },
  {
   "cell_type": "code",
   "execution_count": null,
   "id": "bbdbbc60-98b0-4311-ad95-8ea47b0ecb5a",
   "metadata": {},
   "outputs": [],
   "source": []
  },
  {
   "cell_type": "code",
   "execution_count": null,
   "id": "2d5a0094-5875-4c08-86a1-9b8f6b3727b4",
   "metadata": {},
   "outputs": [],
   "source": []
  },
  {
   "cell_type": "code",
   "execution_count": null,
   "id": "178598b8-29de-496c-b81a-84b5ecbc5d50",
   "metadata": {},
   "outputs": [],
   "source": []
  },
  {
   "cell_type": "code",
   "execution_count": null,
   "id": "6e9522d1-09c5-47f3-a373-001c552c8e31",
   "metadata": {},
   "outputs": [],
   "source": []
  },
  {
   "cell_type": "markdown",
   "id": "93694be1-1167-4a8f-b0c5-c79b863ef64e",
   "metadata": {},
   "source": [
    "## 4. Evaluation matrix"
   ]
  },
  {
   "cell_type": "markdown",
   "id": "2dfe7e19-0163-4094-9a6c-c6ab15b2d935",
   "metadata": {},
   "source": [
    "Here, you will try to improve your quantum solver for TSP problem. The performance of your solver will be evaluated based on the following crtierions\n",
    "\n",
    "| Crtierion    | Description |\n",
    "| :-------- | :------- |\n",
    "| Number of Cities (n)  | number of TSP cities    |\n",
    "| Simulation Time (t) | time to perform quantum simulation     |\n",
    "| Approximation Ratio (AR)    | simulated optimal distance divided by the exact optimal distance    |\n"
   ]
  },
  {
   "cell_type": "markdown",
   "id": "bfe884f3-18b3-4231-a745-7a3aea0a149f",
   "metadata": {},
   "source": [
    "The score $\\mathrm{S}$ for each $n$ is\n",
    "$$\\mathrm{S}_n = \\frac{100}{\\mathrm{AR}\\log(t)},$$\n",
    "and the total score of your Haqaton is\n",
    "$$\\mathrm{S} = \\sum_{n} n^2 \\mathrm{S}_n. $$\n",
    "\n",
    "Since it is an approximation optimization, you have several trials for your simulation. The team with the highest score $\\mathrm{S}$ will be winner for this project.\n"
   ]
  },
  {
   "cell_type": "code",
   "execution_count": null,
   "id": "07afcbfd-619a-4eaa-802c-e2414aa77579",
   "metadata": {},
   "outputs": [],
   "source": []
  },
  {
   "cell_type": "code",
   "execution_count": null,
   "id": "06b319b6-1f03-4ca5-b505-06e37cea8dd1",
   "metadata": {},
   "outputs": [],
   "source": [
    "def score_n(sim_best_dist, bf_dist, sim_time, n):\n",
    "    AR = (sim_best_dist/bf_dist)\n",
    "    return n*n*100/AR/np.log2(sim_time)"
   ]
  },
  {
   "cell_type": "code",
   "execution_count": null,
   "id": "e421de0a-4029-4644-90cc-ab3361f9b14e",
   "metadata": {},
   "outputs": [],
   "source": [
    "# enter your time here.\n",
    "n = 3\n",
    "sim_best_dist = 245.8641592590993\n",
    "bf_dist = 217\n",
    "sim_time = 6.29\n",
    "print(\"Score =\", score_n(sim_best_dist, bf_dist, sim_time, n))\n"
   ]
  },
  {
   "cell_type": "code",
   "execution_count": null,
   "id": "bf22d024-7b73-453e-9147-fd2e1d285636",
   "metadata": {},
   "outputs": [],
   "source": []
  }
 ],
 "metadata": {
  "kernelspec": {
   "display_name": "qiskit1.3",
   "language": "python",
   "name": "qiskit1.3"
  },
  "language_info": {
   "codemirror_mode": {
    "name": "ipython",
    "version": 3
   },
   "file_extension": ".py",
   "mimetype": "text/x-python",
   "name": "python",
   "nbconvert_exporter": "python",
   "pygments_lexer": "ipython3",
   "version": "3.11.11"
  }
 },
 "nbformat": 4,
 "nbformat_minor": 5
}
